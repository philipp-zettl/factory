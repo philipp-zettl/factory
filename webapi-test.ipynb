{
 "cells": [
  {
   "cell_type": "code",
   "execution_count": null,
   "id": "03ba8394-6646-4129-87bf-4ced5bfdf132",
   "metadata": {},
   "outputs": [],
   "source": [
    "import requests\n",
    "import base64"
   ]
  },
  {
   "cell_type": "code",
   "execution_count": null,
   "id": "feb0095b-143f-47de-95e0-42006d492871",
   "metadata": {},
   "outputs": [],
   "source": [
    "def image_grid(imgs, rows, cols):\n",
    "    assert len(imgs) == rows*cols\n",
    "\n",
    "    w, h = imgs[0].size\n",
    "    grid = Image.new('RGB', size=(cols*w, rows*h))\n",
    "    grid_w, grid_h = grid.size\n",
    "    \n",
    "    for i, img in enumerate(imgs):\n",
    "        grid.paste(img, box=(i%cols*w, i//cols*h))\n",
    "    return grid, imgs"
   ]
  },
  {
   "cell_type": "code",
   "execution_count": null,
   "id": "8462faa5-cede-4ebf-847a-139a32be1451",
   "metadata": {},
   "outputs": [],
   "source": [
    "input_img_name = 'gabbie-carter-5.jpg'"
   ]
  },
  {
   "cell_type": "code",
   "execution_count": null,
   "id": "769113ad-724a-425f-b9f7-0d5e82cfea20",
   "metadata": {},
   "outputs": [],
   "source": [
    "with open(input_img_name, \"rb\") as image_file:\n",
    "    encoded_string = base64.b64encode(image_file.read())"
   ]
  },
  {
   "cell_type": "code",
   "execution_count": null,
   "id": "e244c12f-f74e-4777-84e0-50487bf2e98b",
   "metadata": {},
   "outputs": [],
   "source": [
    "res = requests.post('http://localhost:8889/ip/', json={\n",
    "    'task': {\n",
    "        'ip': encoded_string.decode('ascii'),\n",
    "        'prompt': 'wide shot of a young woman laying naked on the beach, legs wide open, highest quality, professional photo shoot, 8k, HDR',\n",
    "        'options': {\n",
    "            #'num_inference_steps': 50,\n",
    "            #'guidance_scale': 7.5,\n",
    "            #'seed': 420,\n",
    "            'negative_prompt': 'monochrome, lowres, bad anatomy, worst quality, low quality, blurry',\n",
    "            #'s_scale': 0.7\n",
    "        }\n",
    "    }\n",
    "})"
   ]
  },
  {
   "cell_type": "code",
   "execution_count": null,
   "id": "d631c4cd-ba48-4dff-970c-afee7386c250",
   "metadata": {},
   "outputs": [],
   "source": [
    "with open('foo.png', 'wb') as f:\n",
    "    f.write(base64.decodebytes(res.json()['image'].encode('ascii')))"
   ]
  },
  {
   "cell_type": "code",
   "execution_count": null,
   "id": "8125e5fb-791a-4d88-b064-db005b29e12b",
   "metadata": {},
   "outputs": [],
   "source": [
    "from PIL import Image\n",
    "output_img = Image.open('foo.png')\n",
    "input_img = Image.open(input_img_name).resize((512, 768))"
   ]
  },
  {
   "cell_type": "code",
   "execution_count": null,
   "id": "e3fd6361-c5cd-46b0-9273-ce4f0eb2676d",
   "metadata": {
    "scrolled": true
   },
   "outputs": [],
   "source": [
    "image_grid([input_img, output_img], 1, 2)[0]"
   ]
  },
  {
   "cell_type": "code",
   "execution_count": null,
   "id": "fd91d87c-d613-4ac5-a273-ec97f4ab88da",
   "metadata": {},
   "outputs": [],
   "source": [
    "res = requests.post('http://localhost:8889/ip-faces/', json={\n",
    "    'task': {\n",
    "        'ip': encoded_string.decode('ascii'),\n",
    "        'prompt': 'wide shot of a young woman laying naked on the beach, highest quality, professional photo shoot, 8k, HDR',\n",
    "        'options': {\n",
    "            'num_inference_steps': 35,\n",
    "            'guidance_scale': 7.5,\n",
    "            'seed': 420,\n",
    "            'negative_prompt': 'monochrome, lowres, bad anatomy, worst quality, low quality, blurry',\n",
    "            's_scale': 0.05\n",
    "        }\n",
    "    }\n",
    "})"
   ]
  },
  {
   "cell_type": "code",
   "execution_count": null,
   "id": "49d4e2af-45c7-4296-b0ef-804bf888bd2c",
   "metadata": {},
   "outputs": [],
   "source": [
    "import base64\n",
    "images = [\n",
    "    # YOUR IMAGES\n",
    "]\n",
    "encoded_imgs = []\n",
    "for img in images:\n",
    "    with open(img, \"rb\") as image_file:\n",
    "        encoded_imgs.append(base64.b64encode(image_file.read()).decode('ascii'))"
   ]
  },
  {
   "cell_type": "code",
   "execution_count": null,
   "id": "12965afc-11aa-499a-89a7-528cf529302a",
   "metadata": {},
   "outputs": [],
   "source": [
    "import requests\n",
    "prompt = \"YOUR PROMPT\"\n",
    "negative_prompt = \"monochrome, lowres, bad anatomy, worst quality, low quality, blurry\"\n",
    "res = requests.post('http://localhost:8889/ip-faces-multi/', json={\n",
    "    'task': {\n",
    "        'images': encoded_imgs,\n",
    "        'prompt': prompt,\n",
    "        'options': {\n",
    "            'num_inference_steps': 30,\n",
    "            'negative_prompt': negative_prompt,\n",
    "            #'guidance_scale': 7.5,\n",
    "            'seed': 420,\n",
    "            #'negative_prompt': 'monochrome, lowres, bad anatomy, worst quality, low quality, blurry',\n",
    "            #'s_scale': 0.05\n",
    "        }\n",
    "    }\n",
    "})"
   ]
  }
 ],
 "metadata": {
  "kernelspec": {
   "display_name": "Python 3 (ipykernel)",
   "language": "python",
   "name": "python3"
  },
  "language_info": {
   "codemirror_mode": {
    "name": "ipython",
    "version": 3
   },
   "file_extension": ".py",
   "mimetype": "text/x-python",
   "name": "python",
   "nbconvert_exporter": "python",
   "pygments_lexer": "ipython3",
   "version": "3.11.7"
  },
  "widgets": {
   "application/vnd.jupyter.widget-state+json": {
    "state": {},
    "version_major": 2,
    "version_minor": 0
   }
  }
 },
 "nbformat": 4,
 "nbformat_minor": 5
}
