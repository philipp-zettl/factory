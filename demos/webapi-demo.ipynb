{
 "cells": [
  {
   "cell_type": "code",
   "execution_count": null,
   "id": "1d5d5ae8-930f-4b5c-a710-653b4190b29d",
   "metadata": {},
   "outputs": [],
   "source": [
    "import requests\n",
    "from PIL import Image\n",
    "from io import BytesIO\n",
    "\n",
    "def gen(prompt, negative_prompt='monochrome, lowres, bad anatomy, worst quality, low quality, blurry', controlnet_conditioning_scale=1.0, inference_steps=15, g_scale=8):\n",
    "    res = requests.post('http://localhost:7777/models/qr', json={\n",
    "        'inputs': 'https://blog.godesteem.de/notes/controlnet/',\n",
    "        'parameters': {\n",
    "            'prompt': prompt,\n",
    "            'num_inference_steps': inference_steps,\n",
    "            'guidance_scale': g_scale,\n",
    "            #'seed': 420,\n",
    "            'negative_prompt': negative_prompt,\n",
    "            'controlnet_conditioning_scale': controlnet_conditioning_scale,\n",
    "            #'s_scale': 0.7\n",
    "            'seed': 420,\n",
    "        }\n",
    "    })\n",
    "    return Image.open(BytesIO(res.content))"
   ]
  },
  {
   "cell_type": "code",
   "execution_count": null,
   "id": "f00f70b7-47d4-4293-beac-373cb9074997",
   "metadata": {},
   "outputs": [],
   "source": [
    "gen('a castle in clouds, high definition, studio ghibli style', \"ugly, disfigured, low quality, blurry, blend shapes\", controlnet_conditioning_scale=1.1250)"
   ]
  },
  {
   "cell_type": "code",
   "execution_count": null,
   "id": "f710ab85-952f-4999-bad3-8258a93bb73b",
   "metadata": {},
   "outputs": [],
   "source": [
    "gen('castle on snowy mountain, 8k', \"ugly, disfigured, low quality, blurry\", controlnet_conditioning_scale=.8750)"
   ]
  },
  {
   "cell_type": "code",
   "execution_count": null,
   "id": "ef54d3b2-d711-4e79-87ab-7c2f6f56ce58",
   "metadata": {},
   "outputs": [],
   "source": [
    "gen('mossy stone wall in open valley, studio ghibli', \"ugly, disfigured, low quality, blurry\", controlnet_conditioning_scale=0.8750)"
   ]
  },
  {
   "cell_type": "code",
   "execution_count": null,
   "id": "47774b3c-5e72-43bc-8dc4-9f4c65f261c3",
   "metadata": {},
   "outputs": [],
   "source": [
    "gen('castle in the sky, studio ghibli', \"ugly, disfigured, low quality, blurry\", controlnet_conditioning_scale=0.85)"
   ]
  },
  {
   "cell_type": "code",
   "execution_count": null,
   "id": "843c0530-016d-4b8d-9c15-ac84bd340299",
   "metadata": {},
   "outputs": [],
   "source": [
    "gen('epic sand castle, blue sea, studio ghibli', \"ugly, disfigured, low quality, blurry\", controlnet_conditioning_scale=.90)"
   ]
  },
  {
   "cell_type": "code",
   "execution_count": null,
   "id": "d1377bfb-5986-4afc-a53a-319ab804a770",
   "metadata": {},
   "outputs": [],
   "source": [
    "gen('epic waterfall, blue sea', \"ugly, disfigured, low quality, blurry\", controlnet_conditioning_scale=.90)"
   ]
  },
  {
   "cell_type": "code",
   "execution_count": null,
   "id": "d1995471-4496-4500-a416-a05b0c4eacad",
   "metadata": {},
   "outputs": [],
   "source": [
    "img = gen('a band of stuffed animals, pixar style, HD, 4k', \"ugly, disfigured, low quality, blurry\", controlnet_conditioning_scale=.80, g_scale=8, inference_steps=35)\n",
    "img"
   ]
  },
  {
   "cell_type": "code",
   "execution_count": null,
   "id": "c3eaea64-4969-4038-84b5-5014bca24979",
   "metadata": {},
   "outputs": [],
   "source": [
    "img.save(\"/home/phil/work/private/blog/src/_includes/assets/2024-05-12/neon.jpg\")"
   ]
  },
  {
   "cell_type": "code",
   "execution_count": null,
   "id": "d0578d6f-e10b-4239-a0d9-93987841132f",
   "metadata": {},
   "outputs": [],
   "source": []
  },
  {
   "cell_type": "code",
   "execution_count": null,
   "id": "87cd0e1f-bf3d-4808-89c6-a81ce0e8ee7f",
   "metadata": {},
   "outputs": [],
   "source": [
    "img = gen('a scary ghost monster made out of slime, pokemon, digimon, 4k', \"ugly, disfigured, low quality, blurry\", controlnet_conditioning_scale=.66, g_scale=10, inference_steps=15)\n",
    "img"
   ]
  },
  {
   "cell_type": "code",
   "execution_count": null,
   "id": "2d5cdebe-49cf-4757-983a-a8d4f7d69c3a",
   "metadata": {},
   "outputs": [],
   "source": [
    "img.save(\"/home/phil/work/private/blog/src/_includes/assets/2024-05-12/pokemon.jpg\")"
   ]
  },
  {
   "cell_type": "code",
   "execution_count": null,
   "id": "2c8e465f-0271-429e-9a38-fa6eda8283ee",
   "metadata": {},
   "outputs": [],
   "source": []
  },
  {
   "cell_type": "code",
   "execution_count": null,
   "id": "ef8740e9-7056-4236-8310-34b05baa542c",
   "metadata": {},
   "outputs": [],
   "source": [
    "img = gen('a big scary ghost monster made out of slime, pokemon, 4k', \"ugly, disfigured, low quality, blurry\", controlnet_conditioning_scale=.6875, g_scale=8, inference_steps=25)\n",
    "img"
   ]
  },
  {
   "cell_type": "code",
   "execution_count": null,
   "id": "d9405990-6adb-4396-8556-9a8237dbcb4e",
   "metadata": {},
   "outputs": [],
   "source": [
    "img = gen('a big scary ghost monster made out of slime, pokemon, 4k', \"ugly, disfigured, low quality, blurry\", controlnet_conditioning_scale=.60, g_scale=8, inference_steps=15)\n",
    "img"
   ]
  },
  {
   "cell_type": "code",
   "execution_count": null,
   "id": "44bde37a-5851-454e-9fcb-a5ab96c78916",
   "metadata": {},
   "outputs": [],
   "source": [
    "img.save('sendout2.png')"
   ]
  },
  {
   "cell_type": "code",
   "execution_count": null,
   "id": "d6fa9770-2dd3-45ef-8255-18d14a8f23fb",
   "metadata": {},
   "outputs": [],
   "source": [
    "from huggingface_hub import InferenceClient\n",
    "import base64\n",
    "\n",
    "client = InferenceClient(\"http://localhost:7777/models/ip-faces/\")\n",
    "with open('./assets/gabbie-carter-5.jpg', \"rb\") as image_file:\n",
    "    ip = image_file.read()\n",
    "response = client.image_to_image(\n",
    "    ip,\n",
    "    None, \n",
    "    seed=420,\n",
    "    num_inference_steps=35, \n",
    "    images=[base64.b64encode(ip).decode('ascii')], \n",
    "    width=512, height=768\n",
    ")\n",
    "response"
   ]
  },
  {
   "cell_type": "code",
   "execution_count": null,
   "id": "59749c52-f698-401a-abab-5bd886c5b6ec",
   "metadata": {},
   "outputs": [],
   "source": [
    "from huggingface_hub import InferenceClient\n",
    "import base64\n",
    "\n",
    "client = InferenceClient(\"http://localhost:7777/models/ip-faces-portrait/\")\n",
    "images = [\n",
    "    './assets/gabbie-carter-2.jpg',\n",
    "    #'./assets/gabbie-carter-5.jpg',\n",
    "    #'./assets/gabbie-carter-3.jpg',\n",
    "    #'./assets/gabbie-carter-4.jpg',\n",
    "    #'./assets/gabbie-carter.jpg',\n",
    "]\n",
    "\n",
    "payload_images = []\n",
    "for img in images:\n",
    "  with open(img, \"rb\") as image_file:\n",
    "    payload_images.append(base64.b64encode(image_file.read()).decode('ascii'))\n",
    "\n",
    "response = client.image_to_image(\n",
    "    b'foo',\n",
    "    prompt=\"erotic photo of woman laying in front of chimney\",\n",
    "    negative_prompt=\"monochrome, lowres, bad anatomy, worst quality, low quality, blurry\",\n",
    "    images=payload_images,\n",
    "    width=512,\n",
    "    height=512,\n",
    "    num_inference_steps=30,\n",
    "    seed=2023\n",
    ")\n",
    "response"
   ]
  },
  {
   "cell_type": "code",
   "execution_count": null,
   "id": "687c33a5-91a2-4904-b48f-d42e74cbc6c9",
   "metadata": {},
   "outputs": [],
   "source": [
    "from huggingface_hub import InferenceClient\n",
    "import base64\n",
    "\n",
    "client = InferenceClient(\"http://localhost:7777/models/ip-faces-portrait-multi/\")\n",
    "images = [\n",
    "    \"gabbie-carter.jpg\",\n",
    "    \"gabbie-carter-2.jpg\",\n",
    "    \"gabbie-carter-3.jpg\",\n",
    "    \"gabbie-carter-4.jpg\",\n",
    "    \"gabbie-carter-5.jpg\",\n",
    "]\n",
    "\n",
    "payload_images = []\n",
    "for img in images:\n",
    "  with open('./assets/' + img, \"rb\") as image_file:\n",
    "    payload_images.append(base64.b64encode(image_file.read()).decode('ascii'))\n",
    "\n",
    "response = client.image_to_image(\n",
    "    b'foo',\n",
    "    prompt=\"erotic photo of woman laying in front of chimney\",\n",
    "    negative_prompt=\"monochrome, lowres, bad anatomy, worst quality, low quality, blurry\",\n",
    "    images=payload_images,\n",
    "    width=512,\n",
    "    height=512,\n",
    "    num_inference_steps=30,\n",
    "    seed=2023\n",
    ")\n",
    "response"
   ]
  },
  {
   "cell_type": "code",
   "execution_count": null,
   "id": "30923c2d-a0f8-4a12-9213-3e8abbd307ef",
   "metadata": {},
   "outputs": [],
   "source": []
  },
  {
   "cell_type": "markdown",
   "id": "63582f94-5752-4bbd-aa8d-e32f89d70f89",
   "metadata": {},
   "source": [
    "## IP-Adapter (single)"
   ]
  },
  {
   "cell_type": "code",
   "execution_count": null,
   "id": "c11fffbd-28e4-400d-97b7-50bbb219eb36",
   "metadata": {},
   "outputs": [],
   "source": [
    "from PIL import Image\n",
    "\n",
    "image = Image.open(\"./assets/woman.png\")\n",
    "image.resize((256, 256))"
   ]
  },
  {
   "cell_type": "code",
   "execution_count": null,
   "id": "a6d3fc18-b0fc-42c6-a2be-68e99bec8e01",
   "metadata": {},
   "outputs": [],
   "source": [
    "client = InferenceClient(\"http://localhost:7777/models/ip/\")\n",
    "\n",
    "response = client.image_to_image(\n",
    "    \"./assets/woman.png\",\n",
    "    prompt=None,#\"erotic photo of woman laying in front of chimney\",\n",
    "    negative_prompt=\"monochrome, lowres, bad anatomy, worst quality, low quality, blurry\",\n",
    "    width=512,\n",
    "    height=512,\n",
    "    num_inference_steps=50,\n",
    "    seed=42,\n",
    ")"
   ]
  },
  {
   "cell_type": "code",
   "execution_count": null,
   "id": "6189abe8-823e-45d7-bdd3-3f7524da18b3",
   "metadata": {},
   "outputs": [],
   "source": [
    "response"
   ]
  },
  {
   "cell_type": "markdown",
   "id": "b5c916b3-34f0-4684-9f51-4f2fe57fc65c",
   "metadata": {},
   "source": [
    "## IP-Adapter PLUS (single)"
   ]
  },
  {
   "cell_type": "code",
   "execution_count": null,
   "id": "e78214d4-3d66-4838-b954-82f615c41fb1",
   "metadata": {},
   "outputs": [],
   "source": []
  },
  {
   "cell_type": "code",
   "execution_count": null,
   "id": "19a46c24-9b7c-402c-bc67-1de2f5b89ac2",
   "metadata": {},
   "outputs": [],
   "source": [
    "client = InferenceClient(\"http://localhost:7777/models/ip-plus/\")\n",
    "\n",
    "response = client.image_to_image(\n",
    "    \"./assets/gabbie-carter-2.jpg\",\n",
    "    prompt=None,#\"erotic photo of woman laying in front of chimney\",\n",
    "    negative_prompt=None,#\"monochrome, lowres, bad anatomy, worst quality, low quality, blurry\",\n",
    "    width=512,\n",
    "    height=512,\n",
    "    num_inference_steps=50,\n",
    "    seed=42,\n",
    "    scale=0.8,\n",
    ")\n",
    "response"
   ]
  },
  {
   "cell_type": "code",
   "execution_count": null,
   "id": "264d2c0a-5e6a-4a40-bf69-1b5ad7c0c8d2",
   "metadata": {},
   "outputs": [],
   "source": [
    "response = client.image_to_image(\n",
    "    \"./assets/gabbie-carter-2.jpg\",\n",
    "    prompt=\"Wearing a hat on the beach\",#\"erotic photo of woman laying in front of chimney\",\n",
    "    negative_prompt=None,#\"monochrome, lowres, bad anatomy, worst quality, low quality, blurry\",\n",
    "    width=512,\n",
    "    height=512,\n",
    "    num_inference_steps=50,\n",
    "    seed=42,\n",
    "    scale=0.6,\n",
    ")\n",
    "response"
   ]
  },
  {
   "cell_type": "markdown",
   "id": "ac867905-3b22-4c06-9611-f633cb15c764",
   "metadata": {},
   "source": [
    "## IP-Adapter FACES (single)"
   ]
  },
  {
   "cell_type": "code",
   "execution_count": null,
   "id": "3e7f5ef0-be87-42b3-859f-4cc7430949d6",
   "metadata": {},
   "outputs": [],
   "source": [
    "client = InferenceClient(\"http://localhost:7777/models/ip-faces/\")\n",
    "with open('./assets/gabbie-carter-2.jpg', \"rb\") as image_file:\n",
    "    ip = image_file.read()\n",
    "\n",
    "response = client.image_to_image(\n",
    "    b\"\",\n",
    "    prompt=None,#\"erotic photo of woman laying in front of chimney\",\n",
    "    negative_prompt=None,#\"monochrome, lowres, bad anatomy, worst quality, low quality, blurry\",\n",
    "    images=[base64.b64encode(ip).decode('ascii')],\n",
    "    width=512,\n",
    "    height=512,\n",
    "    num_inference_steps=50,\n",
    "    seed=42,\n",
    ")\n",
    "response"
   ]
  },
  {
   "cell_type": "code",
   "execution_count": null,
   "id": "cfd9fd83-5f90-4bab-bc63-a9dc41111ca1",
   "metadata": {},
   "outputs": [],
   "source": [
    "from huggingface_hub import InferenceClient\n",
    "import base64\n",
    "\n",
    "client = InferenceClient(\"http://localhost:7777/models/ip-faces-portrait-multi/\")\n",
    "images = [\n",
    "    \"gabbie-carter.jpg\",\n",
    "    \"gabbie-carter-2.jpg\",\n",
    "    \"gabbie-carter-3.jpg\",\n",
    "    \"gabbie-carter-4.jpg\",\n",
    "    \"gabbie-carter-5.jpg\",\n",
    "]\n",
    "\n",
    "payload_images = []\n",
    "for img in images:\n",
    "  with open('./assets/' + img, \"rb\") as image_file:\n",
    "    payload_images.append(base64.b64encode(image_file.read()).decode('ascii'))\n",
    "\n",
    "response = client.image_to_image(\n",
    "    b'foo',\n",
    "    prompt=\"erotic photo of woman laying in front of chimney\",\n",
    "    negative_prompt=\"monochrome, lowres, bad anatomy, worst quality, low quality, blurry\",\n",
    "    images=payload_images,\n",
    "    width=512,\n",
    "    height=512,\n",
    "    num_inference_steps=30,\n",
    "    seed=2023\n",
    ")\n",
    "response"
   ]
  },
  {
   "cell_type": "code",
   "execution_count": null,
   "id": "aa54d244-2f60-41bd-b0a6-783f8de1afc5",
   "metadata": {},
   "outputs": [],
   "source": [
    "client = InferenceClient(\"http://localhost:7777/models/SG161222_Realistic_Vision_V4.0_noVAE\")\n",
    "client.text_to_image(prompt, width=512, height=512, num_inference_steps=30)"
   ]
  },
  {
   "cell_type": "code",
   "execution_count": null,
   "id": "2cb91e44-a1b3-46ff-83d6-0dd444b25f8a",
   "metadata": {},
   "outputs": [],
   "source": [
    "prompt"
   ]
  },
  {
   "cell_type": "code",
   "execution_count": null,
   "id": "f1c2c407-3a35-4e30-a41d-dda255c65ae3",
   "metadata": {},
   "outputs": [],
   "source": []
  },
  {
   "cell_type": "code",
   "execution_count": null,
   "id": "2cfd42dc-e9b0-4063-a3da-df887a935903",
   "metadata": {},
   "outputs": [],
   "source": []
  },
  {
   "cell_type": "code",
   "execution_count": null,
   "id": "17d76e61-ec74-4574-bf98-8c7bae585f77",
   "metadata": {},
   "outputs": [],
   "source": []
  },
  {
   "cell_type": "code",
   "execution_count": null,
   "id": "df7dcea8-3320-4c40-8c94-b7e2d66e1022",
   "metadata": {},
   "outputs": [],
   "source": []
  },
  {
   "cell_type": "code",
   "execution_count": null,
   "id": "de02c885-2da6-4383-8825-4d6cac7de90b",
   "metadata": {},
   "outputs": [],
   "source": []
  },
  {
   "cell_type": "code",
   "execution_count": null,
   "id": "105617e4-2a0c-4ef7-bfbe-35a8c0c3a415",
   "metadata": {
    "editable": true,
    "slideshow": {
     "slide_type": ""
    },
    "tags": []
   },
   "outputs": [],
   "source": [
    "import json\n",
    "from IPython.display import display, Audio\n",
    "from huggingface_hub import InferenceClient"
   ]
  },
  {
   "cell_type": "code",
   "execution_count": null,
   "id": "78829451-de42-41bb-ac86-b96570bc3cd5",
   "metadata": {
    "editable": true,
    "slideshow": {
     "slide_type": ""
    },
    "tags": []
   },
   "outputs": [],
   "source": [
    "client = InferenceClient(\"http://localhost:7777/models/bark-tts\")"
   ]
  },
  {
   "cell_type": "code",
   "execution_count": null,
   "id": "c3a75ea6-17ed-4f6e-b637-effcce661f94",
   "metadata": {
    "scrolled": true
   },
   "outputs": [],
   "source": [
    "res = client.text_to_speech(\"Hello love, it's a pleasure for me to finally meet you.\")\n",
    "res = json.loads(res)\n",
    "display(Audio(data=res, rate = 24000, autoplay=False))"
   ]
  },
  {
   "cell_type": "code",
   "execution_count": null,
   "id": "c76e6cdb-2ae9-4622-81bf-6ff81310976d",
   "metadata": {},
   "outputs": [],
   "source": [
    "res = client.post(json={\"inputs\": \"Hello love. It's a pleasure for me. To finally meet you.\", 'parameters': {'speaker': 'tts-2'}})\n",
    "res = json.loads(res)\n",
    "display(Audio(data=res, rate = 24000, autoplay=False))"
   ]
  },
  {
   "cell_type": "code",
   "execution_count": null,
   "id": "ee569daf-f3c5-4c9e-b3ff-e41ffeb0e476",
   "metadata": {
    "scrolled": true
   },
   "outputs": [],
   "source": [
    "display(Audio(data=res[0], rate = 16000, autoplay=False))"
   ]
  },
  {
   "cell_type": "code",
   "execution_count": null,
   "id": "aba8f6c2-14f6-40a5-962e-7238ddbba5e3",
   "metadata": {},
   "outputs": [],
   "source": [
    "res = client.post(json={\"inputs\": \"Hello love. It's a pleasure for me. To finally meet you.\", 'parameters': {'speaker': 'tts-2'}})\n",
    "res = json.loads(res)\n",
    "display(Audio(data=res, rate = 16000, autoplay=True))"
   ]
  },
  {
   "cell_type": "code",
   "execution_count": null,
   "id": "f49e791d-9dd3-4a10-aebd-694896fb4844",
   "metadata": {},
   "outputs": [],
   "source": [
    "res = client.post(json={\"inputs\": \"Hello love, it's a pleasure for me to finally meet you.\", 'parameters': {'speaker': 'tts-2'}}, model=None, task=\"text-to-speech\")\n",
    "res = json.loads(res)\n",
    "display(Audio(data=res, rate = 16000, autoplay=True))"
   ]
  },
  {
   "cell_type": "code",
   "execution_count": null,
   "id": "fa45f074-65da-45da-8224-39e0256d8d90",
   "metadata": {},
   "outputs": [],
   "source": [
    "res = client.post(json={\"inputs\": \"Hello love, it's a pleasure for me to finally meet you.\", 'parameters': {'speaker': 'tts-3'}}, model=None, task=\"text-to-speech\")\n",
    "res = json.loads(res)\n",
    "display(Audio(data=res, rate = 16000, autoplay=True))"
   ]
  },
  {
   "cell_type": "code",
   "execution_count": null,
   "id": "c6e72000-5d1b-494c-858f-3bb8960225f0",
   "metadata": {},
   "outputs": [],
   "source": [
    "res = client.post(json={\"inputs\": \"Hello love, it's a pleasure for me to finally meet you.\", 'parameters': {'speaker': 'tts-4'}}, model=None, task=\"text-to-speech\")\n",
    "res = json.loads(res)\n",
    "display(Audio(data=res, rate = 16000, autoplay=True))"
   ]
  },
  {
   "cell_type": "code",
   "execution_count": null,
   "id": "7795320c-e2c8-45ad-bb1c-a14bcb5c4cf1",
   "metadata": {},
   "outputs": [],
   "source": [
    "def pred(prompt):\n",
    "    res = client.post(json={\"inputs\": prompt, 'parameters': {'speaker': 'tts-2'}}, model=None, task=\"text-to-speech\")\n",
    "    return json.loads(res)\n",
    "    "
   ]
  },
  {
   "cell_type": "code",
   "execution_count": null,
   "id": "97fd8be9-2dfe-4f52-a5ff-f2dee4a16d8e",
   "metadata": {},
   "outputs": [],
   "source": [
    "pred(\"Aloha guys, in case you are bored or want to read something during a coffee break I wrapped my findings from yesterday afternoon into a tiny notes post.\")"
   ]
  },
  {
   "cell_type": "code",
   "execution_count": null,
   "id": "4b4afe62-f032-41e5-85e8-9dc74c9151da",
   "metadata": {},
   "outputs": [],
   "source": [
    "pred(\"\"\"\n",
    "Initially, I had to install the dependencies, which are not listed, but by trial and error I found out that I needed to install the following packages:\n",
    "\n",
    "...\n",
    "\n",
    "Now due to the fact that we only have one image of our protagonist, we need to generate a few more.\n",
    "\n",
    "We can do this by using the IP-Adapter-FaceID-Portrait model. This model is specifically designed to generate images of a person based on a single image.\n",
    "\"\"\")"
   ]
  },
  {
   "cell_type": "code",
   "execution_count": null,
   "id": "211c382b-f54f-4e41-8b52-a86db5ef65f6",
   "metadata": {},
   "outputs": [],
   "source": [
    "!pip install beautifulsoup4"
   ]
  },
  {
   "cell_type": "code",
   "execution_count": null,
   "id": "d0e65a73-4d17-49d0-b9fe-016dbb2f19d6",
   "metadata": {},
   "outputs": [],
   "source": [
    "from bs4 import BeautifulSoup"
   ]
  },
  {
   "cell_type": "code",
   "execution_count": null,
   "id": "3032e51b-bc84-4028-b9c4-94a730b18ffd",
   "metadata": {},
   "outputs": [],
   "source": [
    "import requests"
   ]
  },
  {
   "cell_type": "code",
   "execution_count": null,
   "id": "54f97ecf-89fd-4c40-86bb-39d06f6b908b",
   "metadata": {},
   "outputs": [],
   "source": [
    "res = requests.get('https://philsupertramp.github.io/blog/notes/the-wet-dream-of-a-lora-explorer/')\n",
    "bs = BeautifulSoup(res.content)"
   ]
  },
  {
   "cell_type": "code",
   "execution_count": null,
   "id": "60411a64-d4fc-4ce1-be9f-8bbb51973141",
   "metadata": {},
   "outputs": [],
   "source": [
    "paragraphs = [p.text for p in bs.find_all('p')]"
   ]
  },
  {
   "cell_type": "code",
   "execution_count": null,
   "id": "f31a0c04-5690-497f-a26c-fa5e1ba73f19",
   "metadata": {},
   "outputs": [],
   "source": [
    "len(paragraphs)"
   ]
  },
  {
   "cell_type": "code",
   "execution_count": null,
   "id": "50ef17be-0afe-4fc1-827e-6f7af05c0444",
   "metadata": {},
   "outputs": [],
   "source": [
    "pred(paragraphs[0])"
   ]
  },
  {
   "cell_type": "code",
   "execution_count": null,
   "id": "49e3df9c-15cb-42e4-b058-6928eedbd4b9",
   "metadata": {},
   "outputs": [],
   "source": [
    "pred(paragraphs[1])"
   ]
  },
  {
   "cell_type": "code",
   "execution_count": null,
   "id": "d76d41b3-17d0-4a12-b780-e5de8c06371c",
   "metadata": {},
   "outputs": [],
   "source": [
    "pred(paragraphs[2])"
   ]
  },
  {
   "cell_type": "code",
   "execution_count": null,
   "id": "7c050a44-5f4e-4e0d-9a28-2db1b0a9fbf2",
   "metadata": {},
   "outputs": [],
   "source": [
    "pred(paragraphs[3])"
   ]
  },
  {
   "cell_type": "code",
   "execution_count": null,
   "id": "48c4c3bb-22db-4c3e-a393-60b528e784da",
   "metadata": {},
   "outputs": [],
   "source": [
    "pred(paragraphs[10])"
   ]
  },
  {
   "cell_type": "code",
   "execution_count": null,
   "id": "a0c90dfa-d153-459a-8821-1eca95e06df0",
   "metadata": {},
   "outputs": [],
   "source": [
    "pred(paragraphs[15])"
   ]
  },
  {
   "cell_type": "code",
   "execution_count": null,
   "id": "2368c177-3906-47ea-99b0-272711782028",
   "metadata": {},
   "outputs": [],
   "source": [
    "pred(paragraphs[16])"
   ]
  },
  {
   "cell_type": "code",
   "execution_count": null,
   "id": "b8747a7d-d61b-40d4-9e55-4f50f7c54558",
   "metadata": {},
   "outputs": [],
   "source": [
    "myaudio = []\n",
    "for p in paragraphs:\n",
    "    if not p: continue\n",
    "    myaudio.append(pred(p[:600]))"
   ]
  },
  {
   "cell_type": "code",
   "execution_count": null,
   "id": "f4a8e9d3-fa64-45a1-9691-d437a5e58eb3",
   "metadata": {},
   "outputs": [],
   "source": [
    "merge_attempt = np.array(myaudio[0])"
   ]
  },
  {
   "cell_type": "code",
   "execution_count": null,
   "id": "4d35728f-997c-4ae2-bb98-67d8a2f80a01",
   "metadata": {},
   "outputs": [],
   "source": [
    "merge_attempt.shape"
   ]
  },
  {
   "cell_type": "code",
   "execution_count": null,
   "id": "1d27501f-5ff6-45db-9cc5-1f23e0bfaf6c",
   "metadata": {},
   "outputs": [],
   "source": [
    "for audio in myaudio[1:]:\n",
    "    merge_attempt = np.concatenate((merge_attempt, np.array(audio)), axis=1)"
   ]
  },
  {
   "cell_type": "code",
   "execution_count": null,
   "id": "f8ca9a7d-a52f-4365-a03a-b7792ba0b73f",
   "metadata": {},
   "outputs": [],
   "source": [
    "display(Audio(data=merge_attempt, rate = 16000, autoplay=False))"
   ]
  },
  {
   "cell_type": "code",
   "execution_count": null,
   "id": "0d2870a7-269d-4a87-b8da-8e5e50742559",
   "metadata": {},
   "outputs": [],
   "source": [
    "for audio in myaudio:\n",
    "    display(Audio(data=audio, rate = 16000, autoplay=False))"
   ]
  },
  {
   "cell_type": "code",
   "execution_count": null,
   "id": "fe38b819-c72d-492b-9779-fee97199a01d",
   "metadata": {},
   "outputs": [],
   "source": [
    "import numpy as np\n",
    "f=np.array(myaudio)"
   ]
  },
  {
   "cell_type": "code",
   "execution_count": null,
   "id": "ef8a8626-284a-4e30-b85d-15d8edd9f852",
   "metadata": {},
   "outputs": [],
   "source": [
    "len(\"As you can see, we're using a fine-tuned variant of SD 1.5, called Realistic_Vision_V4.0_noVAE as our base model.\"\n",
    "\"This model ships without a VAE, therefore we need to get a separate one. As suggested by the IP-Adapter authors, we're using stabilityai/sd-vae-ft-mse. This VAE is fine tuned on SFW images of humans to improve the reconstruction of faces^1.\"\n",
    "\"To process the incoming face image, IP-Adapter is using the CLIP model laion/CLIP-ViT-H-14-laion2B-s32B-b79K. Which generates embeddings.\"\n",
    "\"Apart from this, we also need to use a noise scheduler, which is a DDIMScheduler with a beta schedule. This is used to control the amount of noise added to the image during the diffusion process.\")"
   ]
  },
  {
   "cell_type": "code",
   "execution_count": null,
   "id": "be0f4144-0905-4bd0-abbb-ea230d826c71",
   "metadata": {},
   "outputs": [],
   "source": [
    "import numpy as np\n",
    "\n",
    "voice = np.load('./cmu_us_bdl_arctic-wav-arctic_a0009.npy')"
   ]
  },
  {
   "cell_type": "code",
   "execution_count": null,
   "id": "3b0842d8-4672-484c-802c-760ed7c2d4e0",
   "metadata": {},
   "outputs": [],
   "source": [
    "display(Audio(data=voice, rate = 24000, autoplay=False))"
   ]
  },
  {
   "cell_type": "code",
   "execution_count": null,
   "id": "7cf57430-3405-4902-9ca2-18ac65793f9c",
   "metadata": {},
   "outputs": [],
   "source": [
    "voice.shape"
   ]
  },
  {
   "cell_type": "code",
   "execution_count": null,
   "id": "1144d57d-2ca6-4e4f-a4fe-df335d523548",
   "metadata": {},
   "outputs": [],
   "source": []
  },
  {
   "cell_type": "code",
   "execution_count": null,
   "id": "67028ac6-3585-4ddb-8ef6-268081b09a92",
   "metadata": {},
   "outputs": [],
   "source": []
  },
  {
   "cell_type": "code",
   "execution_count": null,
   "id": "f3d7913a-e57b-4710-b0a2-92d87108b086",
   "metadata": {},
   "outputs": [],
   "source": []
  },
  {
   "cell_type": "code",
   "execution_count": null,
   "id": "f847fa54-d0bb-442d-afc9-8d855c626dd6",
   "metadata": {},
   "outputs": [],
   "source": []
  },
  {
   "cell_type": "code",
   "execution_count": null,
   "id": "d4ce8d56-f9a9-4fc5-abaa-c13403c66dfa",
   "metadata": {},
   "outputs": [],
   "source": []
  },
  {
   "cell_type": "code",
   "execution_count": null,
   "id": "a98776ae-6523-493c-bb6a-dbcdb3fb0d19",
   "metadata": {},
   "outputs": [],
   "source": [
    "from IPython.display import display, Audio\n",
    "from huggingface_hub import InferenceClient\n",
    "from bs4 import BeautifulSoup\n",
    "import requests\n",
    "import json"
   ]
  },
  {
   "cell_type": "code",
   "execution_count": null,
   "id": "7a0d0bda-3c98-44e6-b021-23d0b1fc31f9",
   "metadata": {},
   "outputs": [],
   "source": [
    "res = requests.get('https://blog.godesteem.de/notes/the-wet-dream-of-a-lora-explorer/')\n",
    "bs = BeautifulSoup(res.content)"
   ]
  },
  {
   "cell_type": "code",
   "execution_count": null,
   "id": "ab2af6a0-f83e-40af-b79d-9562a0507616",
   "metadata": {},
   "outputs": [],
   "source": [
    "paragraphs = [p.text for p in bs.find_all('p')]"
   ]
  },
  {
   "cell_type": "code",
   "execution_count": null,
   "id": "e0f9f769-16ec-44cb-bae0-d9f40e10c7ac",
   "metadata": {},
   "outputs": [],
   "source": [
    "client = InferenceClient(\"http://localhost:7777/models/pszemraj_led-large-book-summary\")"
   ]
  },
  {
   "cell_type": "code",
   "execution_count": null,
   "id": "97fd8ce3-1532-404b-a52a-0c2bd8f4561e",
   "metadata": {},
   "outputs": [],
   "source": [
    "res = client.text_generation(bs.text)"
   ]
  },
  {
   "cell_type": "code",
   "execution_count": null,
   "id": "cd002a1c-4d40-480e-a6c0-217ab4084a89",
   "metadata": {},
   "outputs": [],
   "source": []
  }
 ],
 "metadata": {
  "kernelspec": {
   "display_name": "Python 3 (ipykernel)",
   "language": "python",
   "name": "python3"
  },
  "language_info": {
   "codemirror_mode": {
    "name": "ipython",
    "version": 3
   },
   "file_extension": ".py",
   "mimetype": "text/x-python",
   "name": "python",
   "nbconvert_exporter": "python",
   "pygments_lexer": "ipython3",
   "version": "3.10.9"
  },
  "widgets": {
   "application/vnd.jupyter.widget-state+json": {
    "state": {},
    "version_major": 2,
    "version_minor": 0
   }
  }
 },
 "nbformat": 4,
 "nbformat_minor": 5
}
